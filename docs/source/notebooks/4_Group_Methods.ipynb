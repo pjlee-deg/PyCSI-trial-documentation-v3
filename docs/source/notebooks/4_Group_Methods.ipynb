{
 "cells": [
  {
   "cell_type": "markdown",
   "metadata": {},
   "source": [
    "# Group Methods\n",
    "\n",
    "_This is a Jupyter Notebook file, make sure to run all the cells in the presented order to avoid any errors_ \n",
    "\n",
    "This tutorial details how to work with groups in ETABS using `PyCSI`. This example uses an ETABS model; however, connecting to a SAP2000 or SAFE model is done by changing only the ETABSmodel class for the desired software."
   ]
  },
  {
   "cell_type": "markdown",
   "metadata": {},
   "source": [
    "## Opening example model\n",
    "\n",
    "See the [Basic Functions](2_Basic_functions.ipynb) tutorial for details of the following code"
   ]
  },
  {
   "cell_type": "code",
   "execution_count": null,
   "metadata": {},
   "outputs": [],
   "source": [
    "# Python packages imports\n",
    "import os\n",
    "import sys\n",
    "\n",
    "###################################################################\n",
    "# The following lines are only necessary for these tutorials\n",
    "from pathlib import Path\n",
    "pyCSI_dir = Path.cwd().parents[2]\n",
    "os.chdir(pyCSI_dir)\n",
    "###################################################################\n",
    "\n",
    "# PyCSI import\n",
    "import pyCSI\n",
    "\n",
    "# example_model location \n",
    "# DO NOT MODIFY THE FOLLOWING LINES\n",
    "VERSION = 21\n",
    "EXAMPLE_LOCATION = pyCSI_dir.joinpath('docs', 'tutorials', 'resources', 'example_model')\n",
    "EXAMPLE_NAME = 'pyCSI_example - v' + str(VERSION) + '.EDB'\n",
    "EXAMPLE_FILE = EXAMPLE_LOCATION.joinpath(EXAMPLE_NAME)\n",
    "open_file = False  # Flag to be used in the next step\n",
    "\n",
    "model = pyCSI.ETABSModel(version=VERSION)\n",
    "\n",
    "try:\n",
    "    # Calling get_model() with no arguments connects to an active model\n",
    "    model.get_model()\n",
    "    file_name = model.get_file_name()  # Get the name of the connected model\n",
    "\n",
    "    # Check that the connected model is the pyCSI_example - v21.EDB file\n",
    "    # If not, set the flag to open the model in the next step\n",
    "    if not file_name == EXAMPLE_NAME:\n",
    "        print('Not connected to Example Model')\n",
    "        open_file = True\n",
    "    \n",
    "except pyCSI.APIConnectionError:\n",
    "    # If no active model is found, an Attribute error is raised\n",
    "    # Set the flag to open the model in the next step\n",
    "    print('No active model found')\n",
    "    open_file = True\n",
    "\n",
    "if open_file:\n",
    "    print('Opening example model')\n",
    "    model.get_model(active_model=False, file_location=EXAMPLE_FILE)"
   ]
  },
  {
   "cell_type": "markdown",
   "metadata": {},
   "source": [
    "## Group Property\n",
    "\n",
    "`PyCSI` provides the `.groups` property. This property gives access to different methods to work with groups within ETABS. The following sections detail the available methods.\n"
   ]
  },
  {
   "cell_type": "markdown",
   "metadata": {},
   "source": [
    "### Create Group\n",
    "\n",
    "Use the `.groups.create(group_name)` method to define a new, empty group in the model."
   ]
  },
  {
   "cell_type": "code",
   "execution_count": null,
   "metadata": {},
   "outputs": [],
   "source": [
    "GROUP = 'PyCSI Group'\n",
    "model.groups.create(group_name=GROUP)\n",
    "print(f'{GROUP = } created.')\n"
   ]
  },
  {
   "cell_type": "markdown",
   "metadata": {},
   "source": [
    "### Get all defined groups in the model\n",
    "\n",
    "Use the `.groups.get_names()` method to get a list with all the group names currently defined in the model."
   ]
  },
  {
   "cell_type": "code",
   "execution_count": null,
   "metadata": {},
   "outputs": [],
   "source": [
    "group_names = model.groups.get_names()\n",
    "print('Group Names:\\n', *group_names, sep= '\\n')"
   ]
  },
  {
   "cell_type": "markdown",
   "metadata": {},
   "source": [
    "### Adding objects to a group\n",
    "\n",
    "`PyCSI` provides different methods to add or remove objects to a group. To achieve this, you must first identify the objects you want to assign to the group."
   ]
  },
  {
   "cell_type": "markdown",
   "metadata": {},
   "source": [
    "#### What is an object?\n",
    "\n",
    "CSI software uses objects to represent different structural elements in an analysis model.\n",
    "\n",
    "The main object types are:\n",
    "* `Point` Objects. This represents the nodes in the model.\n",
    "* `Frame` Objects. This represents the beams, columns and braces in the model.\n",
    "* `Area` Objects. This represents the floors and walls in the model.\n",
    "\n",
    "##### How to identify objects in the model?\n",
    "\n",
    "Objects in a model are identified in two different ways:\n",
    "1. Object `Unique Name`: Every object has a name within the model, unique for each object type (point, frame, area or link).\n",
    "   \n",
    "2. Object `Label`: Every object is identified by its location in plan, and this is called the label. Objects in different stories that have the same location in plan usually have the same label. To identify an object by its label, it is necessary to specify its label and story."
   ]
  },
  {
   "cell_type": "markdown",
   "metadata": {},
   "source": [
    "#### Adding objects to a group by its Unique Name"
   ]
  },
  {
   "cell_type": "markdown",
   "metadata": {},
   "source": [
    "To add an object to a group by its unique name, it is  necessary to identify the object by its unique name and object type.\n",
    "\n",
    "<center><img src=\"..\\..\\images\\tutorials\\Object_Unique_name.png\" alt=\"Object Unique Name\" width=\"600\"/></center>"
   ]
  },
  {
   "cell_type": "markdown",
   "metadata": {},
   "source": [
    "##### Add a single object to a group\n",
    "\n",
    "Use the `.groups.add_object_from_name(unique_name, object_type, group_name[, replace_group, remove])` method to add a single object to the specified group.\n",
    "\n",
    "Arguments:\n",
    "* unique_name -- Object unique name in string format\n",
    "* object_type -- Object type in string format. Valid values are:\n",
    "  * frame\n",
    "  * area\n",
    "  * joint\n",
    "  * link\n",
    "* group_name -- Name of the group to be modified\n",
    "\n",
    "Keyword Arguments:\n",
    "* replace_group -- Optional. If True, the specified objects will replace the group. Otherwise, objects will be added to the group (default: {False})\n",
    "* remove -- Optional. If True, objects will be removed from specified group (default: {False})\n",
    "        "
   ]
  },
  {
   "cell_type": "code",
   "execution_count": null,
   "metadata": {},
   "outputs": [],
   "source": [
    "# Identify the object by its unique name and object type\n",
    "NAME = '222'\n",
    "TYPE = 'frame'\n",
    "GROUP = 'PyCSI Group'\n",
    "\n",
    "model.groups.add_object_from_name(NAME, TYPE, GROUP)\n",
    "print(f'{TYPE} object {NAME} added to group: {GROUP}')"
   ]
  },
  {
   "cell_type": "markdown",
   "metadata": {},
   "source": [
    "##### Add multiple objects to a group\n",
    "\n",
    "To add multiple objects to a group in a single call the objects must be passed to `PyCSI` with one of the following methods:\n",
    "\n",
    "##### Objects in a Pandas DataFrame\n",
    "\n",
    "Use the `.groups.add_objects_from_dataframe_names(objects, group_name[, replace_group, remove])` method to add multiple objects to a group.\n",
    "\n",
    "The `objects` argument must be a two-column DataFrame, where each row must contain the object's unique name and object type.\n",
    "\n",
    "See [above](#add-a-single-object-to-a-group) for the full argument list"
   ]
  },
  {
   "cell_type": "code",
   "execution_count": null,
   "metadata": {},
   "outputs": [],
   "source": [
    "# Adding multiple objects from a pandas DataFrame\n",
    "\n",
    "# See Tables tutorial for details of the next function\n",
    "frame_assignments = model.tables.get_table_dataframe('Frame Assignments - Summary')\n",
    "\n",
    "# Take the Unique Name column from Frame Assignments table and add a second column with the object type\n",
    "frame_unique_names = frame_assignments['UniqueName'].to_frame()\n",
    "frame_unique_names['Type'] = 'frame'\n",
    "print('Adding the following elements to group')\n",
    "display(frame_unique_names)\n",
    "\n",
    "# Add objects to Group\n",
    "GROUP = 'Frames from Names'\n",
    "model.groups.add_objects_from_dataframe_names(frame_unique_names, GROUP, replace_group=True)\n",
    "print(f'Objects from DataFrame added to group: {GROUP}')"
   ]
  },
  {
   "cell_type": "markdown",
   "metadata": {},
   "source": [
    "Additionally, if all the objects you are adding to the group are of the same type, you can use the `.groups.add_objects_of_same_type_from_dataframe_names(objects, group_name, object_type[, replace_group, remove])`.\n",
    "\n",
    "Here, the `objects` argument is a single-column DataFrame containing only the object's unique name and the `object_type` argument must be one of the valid object types."
   ]
  },
  {
   "cell_type": "code",
   "execution_count": null,
   "metadata": {},
   "outputs": [],
   "source": [
    "# Adding multiple objects of the same type from a pandas DataFrame\n",
    "\n",
    "# See Tables tutorial for details of the next function\n",
    "area_assignments = model.tables.get_table_dataframe('Area Assignments - Summary')\n",
    "\n",
    "# Take the Unique Name column from Area Assignments table\n",
    "area_assignments = area_assignments['UniqueName'].to_frame()\n",
    "print('Adding the following elements to group')\n",
    "display(area_assignments)\n",
    "\n",
    "# Add objects to Group\n",
    "GROUP = 'Areas from Names'\n",
    "TYPE = 'area'\n",
    "model.groups.add_objects_of_same_type_from_dataframe_names(area_assignments, GROUP, object_type=TYPE)\n",
    "print(f'{TYPE} objects from DataFrame added to group: {GROUP}')"
   ]
  },
  {
   "cell_type": "markdown",
   "metadata": {},
   "source": [
    "   \n",
    "##### Objects in the Clipboard\n",
    "\n",
    "_Before using these methods you need to copy into your clipboard the list of objects to add to the group. You can grab this list from a text or excel file. See the [resources](resources) folder for example of file contents._\n",
    "\n",
    "Use the `.groups.add_objects_from_clipboard_names(group_name[, replace_group, remove])` method to add multiple objects to a group. Open the [objects_unique_names.txt](resources\\objects_unique_names.txt) or [objects_unique_names.xlsx](resources\\objects_unique_names.xlsx) file and copy its content before running the following cell."
   ]
  },
  {
   "cell_type": "code",
   "execution_count": null,
   "metadata": {},
   "outputs": [],
   "source": [
    "# Add objects to Group\n",
    "GROUP = 'Objects from Clipboard Names'\n",
    "model.groups.add_objects_from_clipboard_names(GROUP)\n",
    "print(f'Objects from Clipboard added to group: {GROUP}')"
   ]
  },
  {
   "cell_type": "markdown",
   "metadata": {},
   "source": [
    "Additionally, if all the objects you are adding to the group are of the same type, you can use the `.groups.add_objects_of_same_type_from_clipboard_names(group_name, object_type[, replace_group, remove])`.Open the [objects_of_same_type_unique_names.txt](resources\\objects_of_same_type_unique_names.txt) or [objects_unique_names.xlsx](resources\\objects_unique_names.xlsx) file and copy its content before running the following cell."
   ]
  },
  {
   "cell_type": "code",
   "execution_count": null,
   "metadata": {},
   "outputs": [],
   "source": [
    "# Add objects to Group\n",
    "GROUP = 'Points from Clipboard Names'\n",
    "TYPE = 'joint'\n",
    "model.groups.add_objects_of_same_type_from_clipboard_names(GROUP, object_type=TYPE)\n",
    "print(f'{TYPE} objects from Clipboard added to group: {GROUP}')"
   ]
  },
  {
   "cell_type": "markdown",
   "metadata": {},
   "source": [
    "#### Adding objects to a group by its Label"
   ]
  },
  {
   "cell_type": "markdown",
   "metadata": {},
   "source": [
    "To add an object to a group by its label, it is  necessary to identify the object by its label and story.\n",
    "\n",
    "<center><img src=\"..\\..\\images\\tutorials\\Object_Label.png\" alt=\"Object Label\" width=\"600\"/></center>"
   ]
  },
  {
   "cell_type": "markdown",
   "metadata": {},
   "source": [
    "##### Add a single object to a group\n",
    "\n",
    "Use the `.groups.add_object_from_label(label, story, group_name[, replace_group, remove])` method to add a single object to the specified group.\n",
    "\n",
    "Arguments:\n",
    "* label -- Object label in string format\n",
    "* story -- Object story in string format\n",
    "* group_name -- Name of the group to be modified\n",
    "\n",
    "Keyword Arguments:\n",
    "* replace_group -- Optional. If True, the specified objects will replace the group. Otherwise, objects will be added to the group (default: {False})\n",
    "* remove -- Optional. If True, objects will be removed from specified group (default: {False})\n",
    "        "
   ]
  },
  {
   "cell_type": "code",
   "execution_count": null,
   "metadata": {},
   "outputs": [],
   "source": [
    "# Identify the object by its unique name and object type\n",
    "LABEL = 'B49'\n",
    "STORY = 'Roof'\n",
    "GROUP = 'PyCSI Group'\n",
    "\n",
    "model.groups.add_object_from_label(LABEL, STORY, GROUP)\n",
    "print(f'{LABEL} object {NAME} added to group: {GROUP}')"
   ]
  },
  {
   "cell_type": "markdown",
   "metadata": {},
   "source": [
    "##### Add multiple objects to a group\n",
    "\n",
    "To add multiple objects to a group in a single call the objects must be passed to `PyCSI` with one of the following methods:\n",
    "\n",
    "##### Objects in a Pandas DataFrame\n",
    "\n",
    "Use the `.groups.add_objects_from_dataframe_labels(objects, group_name[, replace_group, remove])` method to add multiple objects to a group.\n",
    "\n",
    "The `objects` argument must be a two-column DataFrame, where each row must contain the object's label and story.\n",
    "\n",
    "See [above](#adding-objects-to-a-group-by-its-label) for the full argument list"
   ]
  },
  {
   "cell_type": "code",
   "execution_count": null,
   "metadata": {},
   "outputs": [],
   "source": [
    "# Adding multiple objects from a pandas DataFrame\n",
    "\n",
    "# See Tables tutorial for details of the next function\n",
    "frame_assignments = model.tables.get_table_dataframe('Frame Assignments - Summary')\n",
    "\n",
    "\n",
    "# Take the Label and Story columns\n",
    "frame_labels = frame_assignments[['Label', 'Story']]\n",
    "display(frame_labels)\n",
    "                                 \n",
    "# Add objects to Group\n",
    "GROUP = 'Frames from Labels'\n",
    "model.groups.add_objects_from_dataframe_labels(frame_labels, GROUP, replace_group=True)\n",
    "print(f'Objects from DataFrame added to group: {GROUP}')\n"
   ]
  },
  {
   "cell_type": "markdown",
   "metadata": {},
   "source": [
    "   \n",
    "##### Objects in the Clipboard\n",
    "\n",
    "_Before using these methods you need to copy into your clipboard the list of objects to add to the group. You can grab this list from a text or excel file. See the [resources](resources) folder for example of file contents._\n",
    "\n",
    "Use the `.groups.add_objects_from_clipboard_labels(group_name[, replace_group, remove])` method to add multiple objects to a group. Open the [objects_labels.txt](resources\\objects_labels.txt) or [objects_labels.xlsx](resources\\objects_labels.xlsx) file and copy its content before running the following cell."
   ]
  },
  {
   "cell_type": "code",
   "execution_count": null,
   "metadata": {},
   "outputs": [],
   "source": [
    "# Add objects to Group\n",
    "GROUP = 'Objects from Clipboard Labels'\n",
    "model.groups.add_objects_from_clipboard_labels(GROUP)\n",
    "print(f'Objects from Clipboard added to group: {GROUP}')"
   ]
  },
  {
   "cell_type": "markdown",
   "metadata": {},
   "source": [
    "## Next -> [Example Use](5_Example_use.ipynb)\n",
    "\n",
    "**REMEMBER to shut down the Kernel before leaving**\n",
    "\n",
    "Click `Kernel -> Shut Down Kernel`"
   ]
  },
  {
   "cell_type": "markdown",
   "metadata": {},
   "source": [
    "### Contact\n",
    "\n",
    "For questions or comments please reach out to:\n",
    "\n",
    "* Luis Pancardo: [lpancardo@degenkolb.com](lpancardo@degenkolb.com)<br/>\n",
    "* Daniel Gaspar:  [dgaspar@degenkolb.com](dgaspar@degenkolb.com)<br/>\n"
   ]
  }
 ],
 "metadata": {
  "kernelspec": {
   "display_name": "Python 3 (ipykernel)",
   "language": "python",
   "name": "python3"
  },
  "language_info": {
   "codemirror_mode": {
    "name": "ipython",
    "version": 3
   },
   "file_extension": ".py",
   "mimetype": "text/x-python",
   "name": "python",
   "nbconvert_exporter": "python",
   "pygments_lexer": "ipython3",
   "version": "3.10.14"
  }
 },
 "nbformat": 4,
 "nbformat_minor": 4
}
