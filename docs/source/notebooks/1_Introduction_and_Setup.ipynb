{
 "cells": [
  {
   "cell_type": "markdown",
   "id": "411f214d",
   "metadata": {
    "slideshow": {
     "slide_type": "slide"
    }
   },
   "source": [
    "# 1. Introduction and Setup\n",
    "\n",
    "_This is a Jupyter Notebook file, make sure to run all the cells in the presented order to avoid any errors_ \\"
   ]
  },
  {
   "cell_type": "markdown",
   "id": "4e9a0f3b",
   "metadata": {},
   "source": [
    "## PyCSI\n",
    "\n",
    "`PyCSI` is a Python library designed to help users connect to the CSI software API. \n",
    "It provides classes that allow the user to connect, modify and retrieve data from a CSI software model through single-line functions.\n",
    "\n",
    "### Assumptions and Limitations\n",
    "\n",
    "1. `PyCSI` was written for Python 3.10, some functions may not work in other Python versions.\n",
    "2. `PyCSI` works with the following software:\n",
    "    * ETABS v18 or higher\n",
    "    * SAP2000 v20 or higher\n",
    "    * SAFE v20 or higher"
   ]
  },
  {
   "cell_type": "markdown",
   "id": "d0a3ab81",
   "metadata": {},
   "source": [
    "\n",
    "## Getting started\n",
    "\n",
    "PyCSI is a Python library. To use it, one must have an Integrated Developed Environment (IDE), such as Spyder, PyCharm or Visual Studio Code. Familiarity with Python concepts is necessary. Our [Coders Group Training Program](https://degenkolbengineers.sharepoint.com/sites/eng/SitePages/Coders%20Group/[Coders-Group]-Training-Program.aspx) provides introductory Python tutorials, which are highly recommended.\n",
    " \n",
    "\n",
    "Like other Python tools at Degenkolb, PyCSI is available on GitHub and stored in Degenkolb's private account. Access the GitHub Repository at https://github.com/Degenkolb-Internal/PyCSI.\n",
    "\n",
    "To use PyCSI, a personal GitHub account must be registered under [Degenkolb-Internal](https://github.com/Degenkolb-Internal). Please visit the [Coders Group GitHub page](https://degenkolbengineers.sharepoint.com/sites/eng/SitePages/Coders%20Group/[Coders-Group]-GitHub.aspx) for instructions on creating an account and downloading it from a GitHub repository.\n",
    "\n",
    "Recommendations:\n",
    "\n",
    "* PyCSI is a library under constant development. We recommend forking and cloning the repository to keep local copies synced with the latest updates easily.\n",
    "* Activate the “Watch” feature for the Degenkolb-Internal/PyCSI repository to receive email notifications when updates are available for download."
   ]
  },
  {
   "cell_type": "markdown",
   "id": "840e917e",
   "metadata": {},
   "source": [
    "## Initial Setup"
   ]
  },
  {
   "cell_type": "markdown",
   "id": "c7297c30",
   "metadata": {},
   "source": [
    "\n",
    "### Python version\n",
    "\n",
    "All `PyCSI` functions have been tested to work with Python 3.10. If you don't have a Python 3.10 environment installed follow the next instructions:\n",
    "\n",
    "1. Anaconda Navigator: Open Anaconda Navigator and launch Anaconda Prompt.\n",
    "\n",
    "     <img src=\"..\\..\\images\\tutorials\\Anaconda_prompt.png\" alt=\"Open a Anaconda Prompt\" width=\"900\"/>\n",
    "     \n",
    "\n",
    "\n",
    "2. Navigate to the `PyCSI` folder, for example if `PyCSI` is in your desktop\n",
    "\n",
    "```console\n",
    "cd C:\\Users\\USER_NAME\\Desktop\\PyCSI\n",
    "```\n",
    "<a id='anaconda-prompt'></a>\n",
    "\n",
    "3. Finally type the following command:\n",
    "\n",
    "```sh\n",
    "conda env create -f environment.yml\n",
    "```\n",
    "\n",
    "This will create a new environment with Python 3.10 version installed named `DEGpy-310`. Make sure to select your new environment before opening your IDE:\n",
    "\n",
    "<img src=\"..\\..\\images\\tutorials\\new_environment.png\" alt=\"Select new environment\" width=\"900\"/>\n",
    "\n",
    "Additionally you will have all the required packages to run PyCSI, so if you did this step you can skip the requirements installation"
   ]
  },
  {
   "cell_type": "markdown",
   "id": "e5360320",
   "metadata": {},
   "source": [
    "### Required Packages\n",
    "\n",
    "`PyCSI` uses a few third-party packages that need to be installed before you can use it. To aid in the installation of these packages a [requirements](..\\requirements.txt) file is provided. To use this file follow the next instructions:\n",
    "\n",
    "1. Open the Anaconda Navigator and activate your Python 3.10 environment.\n",
    "2. Launch the Anaconda Prompt and navigate to the `PyCSI` main folder. See [above](#anaconda-prompt) for details on this step.\n",
    "3. Finally, type the following command:\n",
    "\n",
    "```console\n",
    "pip install -r requirements.txt\n",
    "```\n",
    "\n",
    "After this is done, you will be ready to start using `PyCSI`"
   ]
  },
  {
   "cell_type": "markdown",
   "id": "15bcaecf",
   "metadata": {},
   "source": [
    "## Using PyCSI\n",
    "\n",
    "PyCSI is an Object-Oriented Python library. To use it in your python project just do the following:\n",
    "\n",
    "1. Copy and paste the pyCSI folder to your project locations. Only the pyCSI folder is needed so it is not necessary to copy the rest of the files or folders (tutorials, test, example_model, etc.). Once you do this, your project folder should look like this:\n",
    "\n",
    "    your_project/<br>\n",
    "    │<br>\n",
    "    ├── pyCSI/<br>\n",
    "    │   ├── __init__.py<br>\n",
    "    │   ├── model.py<br>\n",
    "    │   └── other_subfolder ...<br>\n",
    "    │ <br>\n",
    "    ├── your_script.py<br>\n",
    "    │<br>\n",
    "    └── YOUR_README.md<br>\n",
    "\n",
    "2. Inside your_script.py import the pyCSI package\n",
    "\n",
    "    You can import the full package"
   ]
  },
  {
   "cell_type": "code",
   "execution_count": 1,
   "id": "ce4e17f0",
   "metadata": {},
   "outputs": [
    {
     "ename": "NameError",
     "evalue": "name 'Group' is not defined",
     "output_type": "error",
     "traceback": [
      "\u001b[1;31m---------------------------------------------------------------------------\u001b[0m",
      "\u001b[1;31mNameError\u001b[0m                                 Traceback (most recent call last)",
      "Cell \u001b[1;32mIn[1], line 13\u001b[0m\n\u001b[0;32m      9\u001b[0m os\u001b[38;5;241m.\u001b[39mchdir((pyCSI_dir))\n\u001b[0;32m     10\u001b[0m \u001b[38;5;66;03m###################################################################\u001b[39;00m\n\u001b[0;32m     11\u001b[0m \n\u001b[0;32m     12\u001b[0m \u001b[38;5;66;03m# PyCSI import\u001b[39;00m\n\u001b[1;32m---> 13\u001b[0m \u001b[38;5;28;01mimport\u001b[39;00m \u001b[38;5;21;01mpyCSI\u001b[39;00m\n",
      "File \u001b[1;32mc:\\Users\\pjlee\\OneDrive - Degenkolb Engineers\\Documents\\GitHub\\PyCSI-trial-documentation-v3\\pyCSI\\__init__.py:4\u001b[0m\n\u001b[0;32m      1\u001b[0m \u001b[38;5;124;03m'''PyCSI v0.1'''\u001b[39;00m\n\u001b[0;32m      3\u001b[0m \u001b[38;5;66;03m# API Model classes\u001b[39;00m\n\u001b[1;32m----> 4\u001b[0m \u001b[38;5;28;01mfrom\u001b[39;00m \u001b[38;5;21;01m.\u001b[39;00m\u001b[38;5;21;01mmodel\u001b[39;00m \u001b[38;5;28;01mimport\u001b[39;00m ETABSModel\n\u001b[0;32m      5\u001b[0m \u001b[38;5;28;01mfrom\u001b[39;00m \u001b[38;5;21;01m.\u001b[39;00m\u001b[38;5;21;01mmodel\u001b[39;00m \u001b[38;5;28;01mimport\u001b[39;00m SAFEModel\n\u001b[0;32m      6\u001b[0m \u001b[38;5;28;01mfrom\u001b[39;00m \u001b[38;5;21;01m.\u001b[39;00m\u001b[38;5;21;01mmodel\u001b[39;00m \u001b[38;5;28;01mimport\u001b[39;00m SAPModel\n",
      "File \u001b[1;32mc:\\Users\\pjlee\\OneDrive - Degenkolb Engineers\\Documents\\GitHub\\PyCSI-trial-documentation-v3\\pyCSI\\model.py:33\u001b[0m\n\u001b[0;32m     29\u001b[0m \u001b[38;5;28;01mfrom\u001b[39;00m \u001b[38;5;21;01mpyCSI\u001b[39;00m\u001b[38;5;21;01m.\u001b[39;00m\u001b[38;5;21;01mutils\u001b[39;00m \u001b[38;5;28;01mimport\u001b[39;00m check_request\n\u001b[0;32m     30\u001b[0m \u001b[38;5;28;01mfrom\u001b[39;00m \u001b[38;5;21;01mpyCSI\u001b[39;00m\u001b[38;5;21;01m.\u001b[39;00m\u001b[38;5;21;01mutils\u001b[39;00m \u001b[38;5;28;01mimport\u001b[39;00m check_valid_model\n\u001b[1;32m---> 33\u001b[0m \u001b[38;5;28;01mclass\u001b[39;00m \u001b[38;5;21;01mETABSModel\u001b[39;00m:\n\u001b[0;32m     34\u001b[0m \u001b[38;5;250m    \u001b[39m\u001b[38;5;124;03m'''ETABS Model class for CSI API connection\u001b[39;00m\n\u001b[0;32m     35\u001b[0m \n\u001b[0;32m     36\u001b[0m \u001b[38;5;124;03m    Arguments:\u001b[39;00m\n\u001b[1;32m   (...)\u001b[0m\n\u001b[0;32m     40\u001b[0m \u001b[38;5;124;03m                            be considered (default: {None})\u001b[39;00m\n\u001b[0;32m     41\u001b[0m \u001b[38;5;124;03m    '''\u001b[39;00m\n\u001b[0;32m     43\u001b[0m     CLSID \u001b[38;5;241m=\u001b[39m \u001b[38;5;124m'\u001b[39m\u001b[38;5;124mCSI.ETABS.API.ETABSObject\u001b[39m\u001b[38;5;124m'\u001b[39m\n",
      "File \u001b[1;32mc:\\Users\\pjlee\\OneDrive - Degenkolb Engineers\\Documents\\GitHub\\PyCSI-trial-documentation-v3\\pyCSI\\model.py:263\u001b[0m, in \u001b[0;36mETABSModel\u001b[1;34m()\u001b[0m\n\u001b[0;32m    259\u001b[0m     \u001b[38;5;28;01melse\u001b[39;00m:\n\u001b[0;32m    260\u001b[0m         \u001b[38;5;28;01mraise\u001b[39;00m \u001b[38;5;167;01mValueError\u001b[39;00m(\u001b[38;5;124m'\u001b[39m\u001b[38;5;124mNew value must be an instance of File class\u001b[39m\u001b[38;5;124m'\u001b[39m)\n\u001b[0;32m    262\u001b[0m \u001b[38;5;129m@group\u001b[39m\u001b[38;5;241m.\u001b[39msetter\n\u001b[1;32m--> 263\u001b[0m \u001b[38;5;28;01mdef\u001b[39;00m \u001b[38;5;21mgroup\u001b[39m(\u001b[38;5;28mself\u001b[39m, new_value: Group \u001b[38;5;241m|\u001b[39m \u001b[38;5;28;01mNone\u001b[39;00m):\n\u001b[0;32m    264\u001b[0m     \u001b[38;5;28;01mif\u001b[39;00m \u001b[38;5;28misinstance\u001b[39m(new_value, Group) \u001b[38;5;129;01mor\u001b[39;00m new_value \u001b[38;5;129;01mis\u001b[39;00m \u001b[38;5;28;01mNone\u001b[39;00m:\n\u001b[0;32m    265\u001b[0m         \u001b[38;5;28mself\u001b[39m\u001b[38;5;241m.\u001b[39m_group \u001b[38;5;241m=\u001b[39m new_value\n",
      "\u001b[1;31mNameError\u001b[0m: name 'Group' is not defined"
     ]
    }
   ],
   "source": [
    "# Python packages imports\n",
    "import os\n",
    "import sys\n",
    "\n",
    "###################################################################\n",
    "# The following lines are only necessary for these tutorials\n",
    "from pathlib import Path\n",
    "pyCSI_dir = str(Path(os.getcwd()).parents[2])\n",
    "os.chdir((pyCSI_dir))\n",
    "###################################################################\n",
    "\n",
    "# PyCSI import\n",
    "import pyCSI\n"
   ]
  },
  {
   "cell_type": "markdown",
   "id": "11fc2955",
   "metadata": {},
   "source": [
    "...or only import the specific classes needed for your script."
   ]
  },
  {
   "cell_type": "code",
   "execution_count": null,
   "id": "cc9ef807",
   "metadata": {},
   "outputs": [],
   "source": [
    "from pyCSI import ETABSModel\n",
    "from pyCSI import SAPModel\n",
    "from pyCSI import SAFEModel\n"
   ]
  },
  {
   "cell_type": "markdown",
   "id": "23f334a1-4ac9-494f-96d2-7eec4b893ba8",
   "metadata": {},
   "source": [
    "The first time you import `PyCSI`, a disclaimer will print in the console. If you see it you are good to go."
   ]
  },
  {
   "cell_type": "markdown",
   "id": "f59c02f2",
   "metadata": {},
   "source": [
    "# Example model\n",
    "\n",
    "The following tutorial files use an example ETABS model located in the [example_model folder](..\\example_model).\n",
    "You can open the example model before running the tutorial files, or let the script open it automatically.\n",
    "\n",
    "In the tutorial files you will see the following lines of code:"
   ]
  },
  {
   "cell_type": "code",
   "execution_count": null,
   "id": "bd431a1b",
   "metadata": {},
   "outputs": [],
   "source": [
    "VERSION = 19\n",
    "EXAMPLE_LOCATION = os.sep.join([pyCSI_dir, 'docs', 'tutorials', 'resources', 'example_model'])\n",
    "EXAMPLE_NAME = 'pyCSI_example - v' + str(VERSION) + '.EDB'\n",
    "EXAMPLE_FILE = os.sep.join([EXAMPLE_LOCATION, EXAMPLE_NAME])\n",
    "open_file = False  # Flag to be used in the next step\n"
   ]
  },
  {
   "cell_type": "markdown",
   "id": "de1a1df3",
   "metadata": {},
   "source": [
    "\n",
    "**Please DO NOT modify these lines**. These are used to open the example model automatically"
   ]
  },
  {
   "cell_type": "markdown",
   "id": "302807a3-aabc-4f2f-8a6a-8c58d4259aab",
   "metadata": {},
   "source": [
    "## Next -> [Basic Functions](2_Basic_functions.ipynb)\n",
    "\n",
    "**REMEMBER to shut down the Kernel before leaving**\n",
    "\n",
    "Click `Kernel -> Shut Down Kernel`"
   ]
  },
  {
   "cell_type": "markdown",
   "id": "a38498c5",
   "metadata": {},
   "source": [
    "### Contact\n",
    "\n",
    "For questions or comments please reach out to:\n",
    "\n",
    "* Luis Pancardo: [lpancardo@degenkolb.com](lpancardo@degenkolb.com)<br/>\n",
    "* Daniel Gaspar:  [dgaspar@degenkolb.com](dgaspar@degenkolb.com)<br/>\n"
   ]
  }
 ],
 "metadata": {
  "kernelspec": {
   "display_name": "Python 3 (ipykernel)",
   "language": "python",
   "name": "python3"
  },
  "language_info": {
   "codemirror_mode": {
    "name": "ipython",
    "version": 3
   },
   "file_extension": ".py",
   "mimetype": "text/x-python",
   "name": "python",
   "nbconvert_exporter": "python",
   "pygments_lexer": "ipython3",
   "version": "3.11.7"
  }
 },
 "nbformat": 4,
 "nbformat_minor": 5
}
