{
 "cells": [
  {
   "cell_type": "markdown",
   "metadata": {},
   "source": [
    "# Table Operations\n",
    "\n",
    "_This is a Jupyter Notebook file, make sure to run all the cells in the presented order to avoid any errors_\n",
    "\n",
    "This tutorial details how to retrieve and modify data from ETABS model DataBase Tables using `PyCSI`. This example uses an ETABS model; however, connecting to a SAP2000 or SAFE model is done by changing only the ETABSmodel class for the desired software."
   ]
  },
  {
   "cell_type": "markdown",
   "metadata": {},
   "source": [
    "## Opening example model\n",
    "\n",
    "See the [Basic Functions](2_Basic_functions.ipynb) tutorial for details of the following code"
   ]
  },
  {
   "cell_type": "code",
   "execution_count": null,
   "metadata": {},
   "outputs": [],
   "source": [
    "# Python packages imports\n",
    "import os\n",
    "import sys\n",
    "\n",
    "###################################################################\n",
    "# The following lines are only necessary for these tutorials\n",
    "from pathlib import Path\n",
    "pyCSI_dir = str(Path(os.getcwd()).parents[2])\n",
    "os.chdir((pyCSI_dir))\n",
    "###################################################################\n",
    "\n",
    "# PyCSI import\n",
    "import pyCSI\n",
    "\n",
    "# example_model location \n",
    "# DO NOT MODIFY THE FOLLOWING LINES\n",
    "VERSION = 21\n",
    "EXAMPLE_LOCATION = os.sep.join([pyCSI_dir, 'docs', 'tutorials', 'resources', 'example_model'])\n",
    "EXAMPLE_NAME = 'pyCSI_example - v' + str(VERSION) + '.EDB'\n",
    "EXAMPLE_FILE = os.sep.join([EXAMPLE_LOCATION, EXAMPLE_NAME])\n",
    "open_file = False  # Flag to be used in the next step\n",
    "\n",
    "model = pyCSI.ETABSModel(version=VERSION)\n",
    "try:\n",
    "    # Calling get_model() with no arguments connects to an active model\n",
    "    model.get_model()\n",
    "    file_name = model.get_file_name()  # Get the name of the connected model\n",
    "\n",
    "    # Check that the connected model is the pyCSI_example - v21.EDB file\n",
    "    # If not, set the flag to open the model in the next step\n",
    "    if not file_name == EXAMPLE_NAME:\n",
    "        print('Not connected to Example Model')\n",
    "        open_file = True\n",
    "    \n",
    "except pyCSI.APIConnectionError:\n",
    "    # If no active model is found, an Attribute error is raised\n",
    "    # Set the flag to open the model in the next step\n",
    "    print('No active model found')\n",
    "    open_file = True\n",
    "\n",
    "if open_file:\n",
    "    print('Opening example model')\n",
    "    model.get_model(active_model=False, file_location=EXAMPLE_FILE)"
   ]
  },
  {
   "cell_type": "markdown",
   "metadata": {},
   "source": [
    "## Table property\n",
    "\n",
    "`PyCSI` provides the `.tables` property to access all the DataBase Table methods. The following sections detail the available methods.  "
   ]
  },
  {
   "cell_type": "markdown",
   "metadata": {},
   "source": [
    "## Get available tables in the model\n",
    "\n",
    "ETABS has a large number of tables, each of which has a unique Table Key Identifier.\n",
    "\n",
    "The `.tables.get_available_tables()` method allows one to get a list that contains the Table Keys of all the available tables in the model. You can use these keys to access the table data.\n",
    "\n",
    "**Note**: This method list the tables that contain data at the moment of the request. This means that if no data exists for a specific table, for example the \"Beam Forces\" when the model is not run, then this Table Key will not appear in the returned list."
   ]
  },
  {
   "cell_type": "code",
   "execution_count": null,
   "metadata": {},
   "outputs": [],
   "source": [
    "# Unlock the model\n",
    "model.lock = False\n",
    "\n",
    "# Available tables when model is unlocked\n",
    "table_names = model.tables.get_available_tables()\n",
    "print(f'Found {len(table_names)} available tables when model is unlocked', end='\\n\\n')\n",
    "\n",
    "# Start analysis\n",
    "model.analysis.run_analysis()\n",
    "\n",
    "# Available tables when model is locked\n",
    "table_names = model.tables.get_available_tables()\n",
    "print(f'Found {len(table_names)} available tables when model is run', end='\\n\\n')\n",
    "\n",
    "# Some of the available tables\n",
    "n = 20\n",
    "print(f'First {n} available tables')\n",
    "print(*table_names[:n], sep='\\n', end='\\n\\n')"
   ]
  },
  {
   "cell_type": "markdown",
   "metadata": {},
   "source": [
    "## Accessing table data\n",
    "\n",
    "You can access the data of a DataBase table only by providing its Table Key.\n",
    "\n",
    "Use the `.tables.get_table_dataframe(table_key)` to retrieve the data of a table. The data is provided in a Pandas DataFrame format."
   ]
  },
  {
   "cell_type": "code",
   "execution_count": null,
   "metadata": {},
   "outputs": [],
   "source": [
    "TABLE_KEY = 'Story Forces'\n",
    "story_definitions = model.tables.get_table_dataframe(TABLE_KEY)\n",
    "print(TABLE_KEY)\n",
    "display(story_definitions)\n"
   ]
  },
  {
   "cell_type": "markdown",
   "metadata": {},
   "source": [
    "### Getting all fields in the table\n",
    "\n",
    "By default, ETABS omits columns with no data in the table. For example, The 'Step Type' column on the Story Forces table is not provided if there is no Response Spectrum Load Case.\n",
    "\n",
    "To get all the headers in the table, regardless of its content, provide the argument `include_all_headers = True` to the `.tables.get_table_dataframe()` method."
   ]
  },
  {
   "cell_type": "code",
   "execution_count": null,
   "metadata": {},
   "outputs": [],
   "source": [
    "TABLE_KEY = 'Story Forces'\n",
    "story_definitions = model.tables.get_table_dataframe(TABLE_KEY, include_all_headers=True)\n",
    "print(TABLE_KEY)\n",
    "display(story_definitions)\n"
   ]
  },
  {
   "cell_type": "markdown",
   "metadata": {},
   "source": [
    "### Get data from a specific group\n",
    "\n",
    "When using ETABS, you can get table results only for the objects you have selected at the moment. You can achieve a similar behavior by providing the name of an ETABS group in the `group` argument. Doing this, the returned table will contain only the data for the objects in the specified group.\n",
    "\n",
    "The example model has a defined group, `Roof cols GL 4`, which contains only the columns at grid line 4 located at the Roof level. The following code gets the frame properties for these specific columns.\n"
   ]
  },
  {
   "cell_type": "code",
   "execution_count": null,
   "metadata": {},
   "outputs": [],
   "source": [
    "TABLE_KEY = 'Frame Assignments - Summary'\n",
    "frame_assignments = model.tables.get_table_dataframe(TABLE_KEY, group='Roof cols GL 4')\n",
    "print(TABLE_KEY)\n",
    "display(frame_assignments)\n"
   ]
  },
  {
   "cell_type": "markdown",
   "metadata": {},
   "source": [
    "### Get data from specific load patterns, load cases and load combos\n",
    "\n",
    "ETABS gives the option to get table data for specific Load Patterns (LPs), Load Cases (LCs) and Load Combinations (LCombos) through its 'Show Tables' format.\n",
    "\n",
    "<img src=\"..\\..\\images\\tutorials\\show_tables.png\" alt=\"Show Tables Format\" width=\"600\"/>\n",
    "\n",
    "In `PyCSI`, you can achieve this by modifying the `.tables.load_patterns`, `.tables.load_cases` or `.tables.load_combos` properties.\n",
    "\n",
    "These properties accept the following values:\n",
    "* A list containing the names of the LPs, LCs or LCombos to be included in the tables\n",
    "* 'all' to select all defined LPs, LCs or LCombos\n",
    "* None to not include any LP, LC or LCombo"
   ]
  },
  {
   "cell_type": "code",
   "execution_count": null,
   "metadata": {},
   "outputs": [],
   "source": [
    "model.tables.load_patterns = 'all'  # Include all load patterns\n",
    "print(f'{model.tables.load_patterns=}', end='\\n\\n')\n",
    "\n",
    "model.tables.load_cases = None  # Do not include any load case in the table\n",
    "print(f'{model.tables.load_cases=}', end='\\n\\n')\n",
    "\n",
    "model.tables.load_combos = ['[ASD 2] D+L', '[LRFD 1] 1.4D']  # Include only specified load combinations\n",
    "print(f'{model.tables.load_combos=}', end='\\n\\n')\n",
    "\n"
   ]
  },
  {
   "cell_type": "markdown",
   "metadata": {},
   "source": [
    "All subsequent calls to .tables.get_table_dataframe() after assigning a value to the .load_patterns, .load_cases or .load_combinations properties will contain the specified LPs, LCs and LCombos."
   ]
  },
  {
   "cell_type": "code",
   "execution_count": null,
   "metadata": {},
   "outputs": [],
   "source": [
    "TABLE = 'Story Forces'\n",
    "story_forces = model.tables.get_table_dataframe(TABLE)\n",
    "print(TABLE_KEY)\n",
    "display(story_forces)\n"
   ]
  },
  {
   "cell_type": "markdown",
   "metadata": {},
   "source": [
    "## Edit DataBase Tables\n",
    "\n",
    "**Coming soon...**"
   ]
  },
  {
   "cell_type": "markdown",
   "metadata": {},
   "source": [
    "## Next -> [Group Objects](4_Group_Methods.ipynb)\n",
    "\n",
    "**REMEMBER to shut down the Kernel before leaving**\n",
    "\n",
    "Click `Kernel -> Shut Down Kernel`"
   ]
  },
  {
   "cell_type": "markdown",
   "metadata": {},
   "source": [
    "### Contact\n",
    "\n",
    "For questions or comments please reach out to:\n",
    "\n",
    "* Luis Pancardo: [lpancardo@degenkolb.com](lpancardo@degenkolb.com)<br/>\n",
    "* Daniel Gaspar:  [dgaspar@degenkolb.com](dgaspar@degenkolb.com)<br/>\n"
   ]
  }
 ],
 "metadata": {
  "kernelspec": {
   "display_name": "Python 3 (ipykernel)",
   "language": "python",
   "name": "python3"
  },
  "language_info": {
   "codemirror_mode": {
    "name": "ipython",
    "version": 3
   },
   "file_extension": ".py",
   "mimetype": "text/x-python",
   "name": "python",
   "nbconvert_exporter": "python",
   "pygments_lexer": "ipython3",
   "version": "3.10.14"
  }
 },
 "nbformat": 4,
 "nbformat_minor": 4
}
