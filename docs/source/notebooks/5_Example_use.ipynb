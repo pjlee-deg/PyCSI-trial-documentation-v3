{
 "cells": [
  {
   "cell_type": "markdown",
   "metadata": {},
   "source": [
    "# PyCSI Example Use"
   ]
  },
  {
   "cell_type": "markdown",
   "metadata": {},
   "source": [
    "The following example shows how to use PyCSI to get data from a model and create a plot."
   ]
  },
  {
   "cell_type": "markdown",
   "metadata": {},
   "source": [
    "## Statement"
   ]
  },
  {
   "cell_type": "markdown",
   "metadata": {},
   "source": [
    "The models in the [5_Example_use_models](../resources/example_model/5_Example_use_models) folder represent the different model updates in the Design Development phase of a building. The following is a summary of the modelling process:\n",
    "\n",
    "1. **Model 1**\n",
    "\n",
    "  * Modeled SFRS framing, gravity framing and concrete over metal deck elements.\n",
    "  * Model considers only the distributed mass over the slab area\n",
    "\n",
    "2. **Model 2**\n",
    "\n",
    "  * Added mass at the perimeter framing to represent the self-weight of the exterior walls.\n",
    "\n",
    "3. **Model 3**\n",
    "\n",
    "  * Per architectural updates, the mass of Level 3 and the Roof level got increased in order to consider heavy equipment located at this levels.\n",
    "  * MEP slab openings included in the model\n",
    "\n",
    "4. **Model 4**\n",
    "\n",
    "  * Building shape was updated to an L-shape.\n",
    "  * Slab openings for stairs and elevator shafts included in the model\n",
    "\n",
    "The objective is to make a comparison of the Maximum Story Drifts at each step of the design process. To achieve this, PyCSI is used to open each model, get the drifts and plot the results."
   ]
  },
  {
   "cell_type": "markdown",
   "metadata": {},
   "source": [
    "## Example Code"
   ]
  },
  {
   "cell_type": "markdown",
   "metadata": {},
   "source": [
    "The following code achieves the objective set in the example statement."
   ]
  },
  {
   "cell_type": "markdown",
   "metadata": {},
   "source": [
    "### 1. Initial Setup\n",
    "\n",
    "The following code imports the required packages, including PyCSI. Additionally, it creates the instance of the ETABS model class and creates a new window."
   ]
  },
  {
   "cell_type": "code",
   "execution_count": null,
   "metadata": {},
   "outputs": [],
   "source": [
    "# Package imports\n",
    "\n",
    "import os\n",
    "import math\n",
    "\n",
    "###################################################################\n",
    "# The following lines are only necessary for these tutorials\n",
    "from pathlib import Path\n",
    "pyCSI_dir = str(Path(os.getcwd()).parents[2])\n",
    "os.chdir((pyCSI_dir))\n",
    "###################################################################\n",
    "\n",
    "from IPython.display import Image\n",
    "import matplotlib.pyplot as plt\n",
    "import pandas as pd\n",
    "\n",
    "from pyCSI import ETABSModel # PyCSI ETABS model class\n",
    "from pyCSI import LengthUnit # PyCSI Length unit enumerator\n",
    "\n",
    "model = ETABSModel(version=19)\n",
    "model.get_model(active_model=False)"
   ]
  },
  {
   "cell_type": "markdown",
   "metadata": {},
   "source": [
    "### 2. Get the model names\n",
    "\n",
    "To open all of the available models using PyCSI, the following cell gets a list of all the models inside the from the [5_Example_use_models](../resources/example_model/5_Example_use_models) folder."
   ]
  },
  {
   "cell_type": "code",
   "execution_count": null,
   "metadata": {},
   "outputs": [],
   "source": [
    "# Example model location\n",
    "models_path = pyCSI_dir + '/docs/tutorials/resources/example_model/5_Example_use_models'\n",
    "\n",
    "# Get a list of all the files in the folder\n",
    "files = os.listdir(models_path)\n",
    "\n",
    "# Create a list with all the files that end with *.EDB (ETABS files)\n",
    "model_files = [models_path + '/' + file for file in files if file.endswith(\".EDB\")]\n",
    "print(f'Found {len(model_files)} ETABS model')\n",
    "display(model_files)\n"
   ]
  },
  {
   "cell_type": "markdown",
   "metadata": {},
   "source": [
    "### 3.  Initialize the plot"
   ]
  },
  {
   "cell_type": "markdown",
   "metadata": {},
   "source": [
    "In this example we are using matplotlib to created the maximum drift plots. For reference of matplotlib methods and properties se their [documentation](https://matplotlib.org/stable/api/matplotlib_configuration_api.html)\n",
    "\n",
    "The following code will create the plot figure. It starts as an empty plot and data will be added for each model."
   ]
  },
  {
   "cell_type": "code",
   "execution_count": null,
   "metadata": {},
   "outputs": [],
   "source": [
    "# Initialize plot figure\n",
    "plt.figure(figsize=(10, 6))\n",
    "drift_plot = plt.gcf()\n",
    "\n",
    "# Create 2 subplots, one for each analysis direction\n",
    "x_plot = plt.subplot(121)\n",
    "y_plot = plt.subplot(122)\n",
    "\n",
    "# Make a list with the plots in each direction\n",
    "plots = [x_plot, y_plot]"
   ]
  },
  {
   "cell_type": "markdown",
   "metadata": {},
   "source": [
    "### 4. Open the ETABS models and get the required data\n",
    "\n",
    "PyCSI is used to open each of the models found in the example folder. For each model the following is done:\n",
    "\n",
    "2. Open the existing file in the created window.\n",
    "3. Make sure the model is unlocked to make changes.\n",
    "4. Set the display length units to feet.\n",
    "5. Set the load cases \"DXE-Drift\" and \"DYE-Drift\" as the only load cases to run.\n",
    "6. Run the analysis.\n",
    "7. Get story elevations from story definitions table\n",
    "8. For each load case 'DXE-Drift' and 'DYE-Drift':\n",
    "   \n",
    "   1. Set tables property to only return data for corresponding load case.\n",
    "   2. Get drifts from story drifts table.\n",
    "   3. Plot data into corresponding plot\n",
    "   \n",
    "9. Unlock the model to delete analysis results"
   ]
  },
  {
   "cell_type": "code",
   "execution_count": null,
   "metadata": {},
   "outputs": [],
   "source": [
    "# Function definition to calculate the story elevations\n",
    "def reverse_cumsum(data: pd.Series) -> pd.Series:\n",
    "    '''Returns a DataFrame containing the cumulative sum of a\n",
    "    specified column in reverse order'''\n",
    "\n",
    "    cumulative_sum = data.iloc[::-1].cumsum()\n",
    "    return cumulative_sum[::-1]\n",
    "\n",
    "# Change visible property to false to hide the window\n",
    "model.visible = True\n",
    "\n",
    "# Load cases of interest\n",
    "load_cases = ['DXE-Drift', 'DYE-Drift']\n",
    "\n",
    "# Direction of analysis\n",
    "directions = ['X', 'Y']\n",
    "\n",
    "# Store maximum drift for later use\n",
    "max_drift = 0\n",
    "\n",
    "# Loop through the models\n",
    "for i, file in enumerate(model_files):\n",
    "\n",
    "    # Open the model\n",
    "    model.file.open_file(file)\n",
    "\n",
    "    # Make sure the model is unlocked to make changes.\n",
    "    model.lock = False\n",
    "\n",
    "    # Set force units to KIPS\n",
    "    model.length_unit = LengthUnit.FT\n",
    "\n",
    "    # Set DX and DY to run\n",
    "    model.analysis.set_load_cases_to_run(False) # Set all load cases to Do not Run\n",
    "    model.analysis.set_load_cases_to_run(True, load_cases)\n",
    "\n",
    "    # Run analysis\n",
    "    model.analysis.run_analysis()\n",
    "\n",
    "    # Get story elevations\n",
    "    story_definitions = model.tables.get_table_dataframe('Story Definitions')\n",
    "    \n",
    "    # Reverse cumulative sum of the Height column to calculate the story elevations.\n",
    "    story_definitions['Elevation'] = reverse_cumsum(story_definitions['Height'])\n",
    "    \n",
    "    # Add the value zero for the elevation of the base\n",
    "    story_elevations = pd.concat([story_definitions['Elevation'], pd.Series([0])])\n",
    "    \n",
    "    # Return no data from load combinations\n",
    "    model.tables.load_combos = None \n",
    "\n",
    "    for load_case, direction, plot in zip(load_cases, directions, plots):\n",
    "        \n",
    "        print(f'Getting data for {direction} Direction')\n",
    "        \n",
    "        # To avoid manually filtering for each load case, \n",
    "        # specify to only get results for the corresponding load case\n",
    "        model.tables.load_cases = [load_case] \n",
    "        \n",
    "        # Get story drifts data\n",
    "        print('Getting drifts table')\n",
    "        drifts_table = model.tables.get_table_dataframe('Story Drifts')\n",
    "\n",
    "        # Filter table for drifts only in the direction of analysis\n",
    "        drifts_table = drifts_table[drifts_table['Direction'] == direction]\n",
    "        \n",
    "        # Take the Drift column and add the value zero for the drift at the base\n",
    "        drifts = pd.concat([drifts_table['Drift'], pd.Series([0])])\n",
    "        \n",
    "        # Get maximum drift\n",
    "        max_drift = max(drifts.max(), max_drift)\n",
    "        \n",
    "        # Plot the data in corresponding plot\n",
    "        label = f'Model {i+1} - {direction} Drift'\n",
    "        plot.plot(drifts, story_elevations, label=label)\n",
    "        print('Data added to plot')\n",
    "\n",
    "    # Unlock model to delete analysis results\n",
    "    model.lock = False\n",
    "    print(f'Finished with model {model.get_file_name()}', end='\\n\\n')\n",
    "    \n",
    "    "
   ]
  },
  {
   "cell_type": "markdown",
   "metadata": {},
   "source": [
    "### 5. Available Data\n",
    "\n",
    "The following is a sample of the data from the last analyzed model"
   ]
  },
  {
   "cell_type": "code",
   "execution_count": null,
   "metadata": {},
   "outputs": [],
   "source": [
    "# Story Definitions\n",
    "print('Story Definitions Table')\n",
    "display(story_definitions)\n",
    "\n",
    "# Story Drifts\n",
    "print('\\n\\nStory Drifts Table')\n",
    "display(drifts_table)\n"
   ]
  },
  {
   "cell_type": "markdown",
   "metadata": {},
   "source": [
    "### 5. Customize plots\n",
    "\n",
    "Define titles and labels for each plot. Finally save the plot to an image."
   ]
  },
  {
   "cell_type": "code",
   "execution_count": null,
   "metadata": {},
   "outputs": [],
   "source": [
    "# Set figure title\n",
    "drift_plot.suptitle('Maximum Story Drifts')\n",
    "\n",
    "# Set title and labels for each plot\n",
    "for direction, plot in zip(directions, plots):\n",
    "    # Set title for each plot\n",
    "    plot.set_title(f'Story Drifts in {direction} Direction')\n",
    "    \n",
    "    # Set X axis labels\n",
    "    plot.set_xlabel('Drift')\n",
    "    \n",
    "    # Set X axis limits\n",
    "    xmin = 0\n",
    "    xmax = math.ceil(max_drift*100)/100\n",
    "    plot.set_xlim(xmin, max_drift)\n",
    "    \n",
    "    # Set Y axis label\n",
    "    # Use .length_unit to display the elevation units\n",
    "    plot.set_ylabel(f'Elevation [{model.length_unit}]')\n",
    "    \n",
    "    # Set X axis limits\n",
    "    ymin = story_elevations.min()\n",
    "    ymax = math.ceil(story_elevations.max()/10)*10\n",
    "    plot.set_ylim(ymin, ymax)\n",
    "    \n",
    "    # Show legend on each plot\n",
    "    plot.legend()\n",
    "    \n",
    "    # Show grid\n",
    "    plot.grid(True)\n",
    "    \n",
    "# Stretch plot to use all available space in figure\n",
    "drift_plot.tight_layout()\n",
    "\n",
    "# Finally save the plot result\n",
    "image_path = 'docs/images/tutorials/drift_plot.png'\n",
    "drift_plot.savefig(image_path)\n",
    "\n",
    "# Show final plot\n",
    "Image(image_path)"
   ]
  },
  {
   "cell_type": "markdown",
   "metadata": {},
   "source": [
    "## Next -> [Troubleshooting & FAQs](6_Troubleshooting_and_FAQs.ipynb)\n",
    "\n",
    "**REMEMBER to shut down the Kernel before leaving**\n",
    "\n",
    "Click `Kernel -> Shut Down Kernel`"
   ]
  },
  {
   "cell_type": "markdown",
   "metadata": {},
   "source": [
    "### Contact\n",
    "\n",
    "For questions or comments please reach out to:\n",
    "\n",
    "* Luis Pancardo: [lpancardo@degenkolb.com](lpancardo@degenkolb.com)<br/>\n",
    "* Daniel Gaspar:  [dgaspar@degenkolb.com](dgaspar@degenkolb.com)<br/>\n"
   ]
  }
 ],
 "metadata": {
  "kernelspec": {
   "display_name": "DEGpy-310",
   "language": "python",
   "name": "python3"
  },
  "language_info": {
   "codemirror_mode": {
    "name": "ipython",
    "version": 3
   },
   "file_extension": ".py",
   "mimetype": "text/x-python",
   "name": "python",
   "nbconvert_exporter": "python",
   "pygments_lexer": "ipython3",
   "version": "3.10.14"
  }
 },
 "nbformat": 4,
 "nbformat_minor": 2
}
