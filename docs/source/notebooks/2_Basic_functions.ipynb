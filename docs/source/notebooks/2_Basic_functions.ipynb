{
 "cells": [
  {
   "cell_type": "markdown",
   "metadata": {},
   "source": [
    "# 2. PyCSI Basic Functions\n",
    "\n",
    "_This is a Jupyter Notebook file, make sure to run all the cells in the presented order to avoid any errors_ \\\n",
    "\n",
    "This tutorial details the basic classes and methods of `PyCSI`. This example uses an ETABS model; however, connecting to a SAP2000 or SAFE model is done by changing only the ETABSmodel class for the desired software."
   ]
  },
  {
   "cell_type": "code",
   "execution_count": null,
   "metadata": {},
   "outputs": [],
   "source": [
    "# Python packages imports\n",
    "import os\n",
    "import sys\n",
    "\n",
    "###################################################################\n",
    "# The following lines are only necessary for these tutorials\n",
    "from pathlib import Path\n",
    "pyCSI_dir = str(Path(os.getcwd()).parents[2])\n",
    "os.chdir((pyCSI_dir))\n",
    "###################################################################\n",
    "\n",
    "# PyCSI import\n",
    "import pyCSI"
   ]
  },
  {
   "cell_type": "markdown",
   "metadata": {},
   "source": [
    "\n",
    "## Connecting to an ETABS model"
   ]
  },
  {
   "cell_type": "markdown",
   "metadata": {},
   "source": [
    "\n",
    "### Instantiate model class\n",
    "\n",
    "To start the connection process, you must create an instance of the ETABSmodel class. \\\n",
    "Instantiating with no arguments will connect to the ETABS version in the registry.\n",
    "\n"
   ]
  },
  {
   "cell_type": "code",
   "execution_count": null,
   "metadata": {},
   "outputs": [],
   "source": [
    "default_model = pyCSI.ETABSModel()\n"
   ]
  },
  {
   "cell_type": "markdown",
   "metadata": {},
   "source": [
    "You can also provide the version argument to connect to an specific version of the software"
   ]
  },
  {
   "cell_type": "code",
   "execution_count": null,
   "metadata": {},
   "outputs": [],
   "source": [
    "VERSION = 21\n",
    "version_specific_model = pyCSI.ETABSModel(version=VERSION)\n"
   ]
  },
  {
   "cell_type": "markdown",
   "metadata": {},
   "source": [
    "This example will use the v21 model"
   ]
  },
  {
   "cell_type": "code",
   "execution_count": null,
   "metadata": {},
   "outputs": [],
   "source": [
    "model = version_specific_model\n"
   ]
  },
  {
   "cell_type": "markdown",
   "metadata": {},
   "source": [
    "### Connect to a model\n",
    "\n",
    "The ETABSModel class has provides different forms to connect to an ETABS model.\n"
   ]
  },
  {
   "cell_type": "markdown",
   "metadata": {},
   "source": [
    "\n",
    "#### Connecting to an active model\n",
    "The `.get_model()` method will try to connect to an active model. If no active model is found, an `APIConnectionError` is raised.\n",
    "\n",
    "The following code tries to connect to an active model, if there is no active model the `APIConnectionError` is caught and the open_file flag is set to `True`.\n",
    "\n",
    "If the connection is successful, it checks that the name of the model matches the example model. If it does not match, then the open_file flag is also set to `True`."
   ]
  },
  {
   "cell_type": "code",
   "execution_count": null,
   "metadata": {
    "tags": []
   },
   "outputs": [],
   "source": [
    "# example_model location \n",
    "# DO NOT MODIFY THE FOLLOWING LINES\n",
    "EXAMPLE_LOCATION = os.sep.join([pyCSI_dir, 'docs', 'tutorials', 'resources', 'example_model'])\n",
    "EXAMPLE_NAME = 'pyCSI_example - v' + str(VERSION) + '.EDB'\n",
    "EXAMPLE_FILE = os.sep.join([EXAMPLE_LOCATION, EXAMPLE_NAME])\n",
    "open_file = False  # Flag to be used in the next step\n",
    "\n",
    "try:\n",
    "    # Calling get_model() with no arguments connects to an active model\n",
    "    model.get_model()\n",
    "    file_name = model.get_file_name()  # Get the name of the connected model\n",
    "\n",
    "    # Check that the connected model is the pyCSI_example - v21.EDB file\n",
    "    # If not, set the flag to open the model in the next step\n",
    "    if not file_name == EXAMPLE_NAME:\n",
    "        print('Not connected to Example Model')\n",
    "        open_file = True\n",
    "        \n",
    "        \n",
    "    \n",
    "except pyCSI.APIConnectionError:\n",
    "    # If no active model is found, an Attribute error is raised\n",
    "    # Set the flag to open the model in the next step\n",
    "    print('No active model found')\n",
    "    open_file = True\n",
    "    "
   ]
  },
  {
   "cell_type": "markdown",
   "metadata": {},
   "source": [
    "#### Create a new window and open an existing model\n",
    "\n",
    "If you want to create a new window of the program, use the `.get_model(active_model[, file_location])` method and specify the argument `active_model = False`. You can also provide a file location to open an existing model.\n",
    "\n",
    "The following code will create a new window and open the example model, only if the open_file flag was set to `True` in the last step"
   ]
  },
  {
   "cell_type": "code",
   "execution_count": null,
   "metadata": {},
   "outputs": [],
   "source": [
    "if open_file:\n",
    "    print('Opening example model')\n",
    "    model.get_model(active_model=False, file_location=EXAMPLE_FILE)\n",
    "    "
   ]
  },
  {
   "cell_type": "markdown",
   "metadata": {},
   "source": [
    "## Model Information\n",
    "\n",
    "`PyCSI` provides functions to access basic model information.\n",
    "\n",
    "### File information\n",
    "\n",
    "Use the following methods to access the file name and file location"
   ]
  },
  {
   "cell_type": "code",
   "execution_count": null,
   "metadata": {},
   "outputs": [],
   "source": [
    "# Get the name of the connected model\n",
    "file_name = model.get_file_name()\n",
    "print(f'{file_name=}', end='\\n\\n')\n",
    "\n",
    "# Specify include_path argument to include the full path to the model\n",
    "full_file_name = model.get_file_name(include_path=True)\n",
    "print(f'{full_file_name=}', end='\\n\\n')\n",
    "\n",
    "# Use .get_file_path to get only the path of the connected model\n",
    "file_path = model.get_file_path()\n",
    "print(f'{file_path=}', end='\\n\\n')\n"
   ]
  },
  {
   "cell_type": "markdown",
   "metadata": {},
   "source": [
    "### Load Cases, Load Patterns and Load Combinations\n",
    "\n",
    "The following methods return information of the Load Cases, Load Patterns and Load Combinations defined in the model."
   ]
  },
  {
   "cell_type": "code",
   "execution_count": null,
   "metadata": {},
   "outputs": [],
   "source": [
    "# Get all load cases defined in the model\n",
    "load_cases = model.get_load_cases()  \n",
    "print(f'{load_cases=}', end='\\n\\n')\n",
    "\n",
    "# Get all load patterns defined in the model\n",
    "load_patterns = model.get_load_patterns()  \n",
    "print(f'{load_patterns=}', end='\\n\\n')\n",
    "\n",
    "# Get all load combinations defined in the model\n",
    "load_combos = model.get_load_combos()\n",
    "print(f'{load_combos=}', end='\\n\\n')\n"
   ]
  },
  {
   "cell_type": "markdown",
   "metadata": {},
   "source": [
    "## Model Properties\n",
    "\n",
    "`PyCSI` gives access to different model properties, that allow to read and modify some of the model states."
   ]
  },
  {
   "cell_type": "markdown",
   "metadata": {},
   "source": [
    "\n",
    "### Locking and unlocking the model\n",
    "\n",
    "The lock state of the model can be modified through the `.lock` property. This Boolean represents the lock/unlocked state of the model. Set this property to `True` or `False` to modify the lock state of the model."
   ]
  },
  {
   "cell_type": "code",
   "execution_count": null,
   "metadata": {},
   "outputs": [],
   "source": [
    "print('Locking the model:')\n",
    "model.lock = True # Locks the model. This is the same as clicking the lock button in the GUI\n",
    "print(f'{model.lock=}', end='\\n\\n')\n"
   ]
  },
  {
   "cell_type": "code",
   "execution_count": null,
   "metadata": {},
   "outputs": [],
   "source": [
    "\n",
    "print('Unlocking the model:')\n",
    "model.lock = False\n",
    "print(f'{model.lock=}')\n"
   ]
  },
  {
   "cell_type": "markdown",
   "metadata": {},
   "source": [
    "### Model Units\n",
    "\n",
    "ETABS stores the model units as integers. Each integer represents a different unit. To avoid the need of memorizing these integers, enumerator classes are provided to aid with the units assignment functions.\n",
    "\n",
    "Import these classes from PyCSI:"
   ]
  },
  {
   "cell_type": "code",
   "execution_count": null,
   "metadata": {},
   "outputs": [],
   "source": [
    "from pyCSI import TemperatureUnit\n",
    "from pyCSI import LengthUnit\n",
    "from pyCSI import ForceUnit\n"
   ]
  },
  {
   "cell_type": "markdown",
   "metadata": {},
   "source": [
    "The `.force_unit`, `.length_unit` and `.temperature_unit` properties lets you access and modify the current units of the model"
   ]
  },
  {
   "cell_type": "code",
   "execution_count": null,
   "metadata": {
    "tags": []
   },
   "outputs": [],
   "source": [
    "# Reading and changing the units of the model using the specific property\n",
    "model.force_unit = ForceUnit.KN # See ForceUnit.help() for available units\n",
    "print(f'{model.force_unit=}', end = '\\n')\n",
    "\n",
    "model.length_unit = LengthUnit.IN # See LengthUnit.help() for available units\n",
    "print(f'{model.length_unit=}', end = '\\n')\n",
    "\n",
    "model.temperature_unit = TemperatureUnit.FAHRENHEIT # See TemperatureUnit.help() for available units\n",
    "print(f'{model.temperature_unit=}', end = '\\n')\n"
   ]
  },
  {
   "cell_type": "markdown",
   "metadata": {},
   "source": [
    "You can also use the `.set_units([force_unit, length_unit, temperature_unit])` method to specify all the output units in a single call. If any argument is not provided the default value is assumed\n",
    "\n",
    "**Default values are: KIP, FEET and FAHRENHEIT**"
   ]
  },
  {
   "cell_type": "code",
   "execution_count": null,
   "metadata": {},
   "outputs": [],
   "source": [
    "model.set_units(force_unit=ForceUnit.LBS, length_unit=LengthUnit.IN)  # Set model units\n",
    "\n",
    "print(f'{model.force_unit=}', end = '\\n')\n",
    "print(f'{model.length_unit=}', end = '\\n')\n",
    "print(f'{model.temperature_unit=}', end = '\\n')\n"
   ]
  },
  {
   "cell_type": "markdown",
   "metadata": {},
   "source": [
    "### Window Visibility\n",
    "\n",
    "The `.visible` property allows to modify the visibility of the current window. \\\n",
    "When a model is hidden, it is not visible either on the screen or in the Windows Taskbar, therefore all operations and modifications of the model are made in the background, with no update to the software graphics.\n"
   ]
  },
  {
   "cell_type": "code",
   "execution_count": null,
   "metadata": {},
   "outputs": [],
   "source": [
    "model.visible = False\n",
    "print('Window is hidden')"
   ]
  },
  {
   "cell_type": "code",
   "execution_count": null,
   "metadata": {},
   "outputs": [],
   "source": [
    "model.visible = True\n",
    "print('Window is visible')"
   ]
  },
  {
   "cell_type": "markdown",
   "metadata": {},
   "source": [
    "## File Property\n",
    "\n",
    "The `.file` property gives access to the File Menu commands. The following functions are available:"
   ]
  },
  {
   "cell_type": "markdown",
   "metadata": {},
   "source": [
    "### Save model\n",
    "\n",
    "The `.file.save()` method saves the model with the current name and  location."
   ]
  },
  {
   "cell_type": "code",
   "execution_count": null,
   "metadata": {},
   "outputs": [],
   "source": [
    "model.file.save() # Save current model\n",
    "print(f'Model {model.get_file_name()} saved!')"
   ]
  },
  {
   "cell_type": "markdown",
   "metadata": {},
   "source": [
    "### Save model in a different location\n",
    "\n",
    "Provide the arguments `file_name` or `path` to the `.file.save()` method to save the model with a new name or a different folder, respectively."
   ]
  },
  {
   "cell_type": "code",
   "execution_count": null,
   "metadata": {},
   "outputs": [],
   "source": [
    "# Get filename and location for backup model\n",
    "new_file_name = EXAMPLE_NAME[:-4] + '-backup.EDB'\n",
    "new_location = os.sep.join([EXAMPLE_LOCATION, '_backup'])\n",
    "\n",
    "try:\n",
    "    # Create backup folder\n",
    "    os.mkdir(new_location)\n",
    "    print('Creating backup folder')\n",
    "except FileExistsError:\n",
    "    # If backup folder already exists, do nothing\n",
    "    print('Backup folder already exists')\n",
    "\n",
    "# Save model using new file name and location\n",
    "print('Saving model backup')\n",
    "model.file.save(file_name=new_file_name, path = new_location)\n"
   ]
  },
  {
   "cell_type": "markdown",
   "metadata": {},
   "source": [
    "### Start a new model\n",
    "\n",
    "To start a new blank model use the `.file.new_model()`.\n",
    "\n",
    "**Make sure to save your model before running this method**"
   ]
  },
  {
   "cell_type": "code",
   "execution_count": null,
   "metadata": {},
   "outputs": [],
   "source": [
    "print('Starting new model')\n",
    "model.file.new_model()\n"
   ]
  },
  {
   "cell_type": "markdown",
   "metadata": {},
   "source": [
    "### Open an existing model\n",
    "\n",
    "To open an existing model in the current window use the `.file.open_file(file)` method.\n",
    "\n",
    "The `file` argument must contain the full path and filename of the existing model."
   ]
  },
  {
   "cell_type": "code",
   "execution_count": null,
   "metadata": {},
   "outputs": [],
   "source": [
    "print(f'Opening {EXAMPLE_NAME} file')\n",
    "model.file.open_file(file=EXAMPLE_FILE)"
   ]
  },
  {
   "cell_type": "markdown",
   "metadata": {},
   "source": [
    "## Analysis Property\n",
    "\n",
    "The `.analysis` property gives access to the Analyze menu commands. The following functions are available:\n"
   ]
  },
  {
   "cell_type": "markdown",
   "metadata": {},
   "source": [
    "\n",
    "### Set load cases to run\n",
    "\n",
    "Use `.analysis.set_load_cases_to_run()` to set the load cases to Run / Do not run.\n"
   ]
  },
  {
   "cell_type": "code",
   "execution_count": null,
   "metadata": {},
   "outputs": [],
   "source": [
    "model.analysis.set_load_cases_to_run(run=True)  # Set all load cases to Run\n",
    "model.analysis.set_load_cases_to_run(run=False)  # Set all load cases to Do not Run\n"
   ]
  },
  {
   "cell_type": "markdown",
   "metadata": {},
   "source": [
    "\n",
    "If a list of load cases is provided to the `load_cases` argument, then the Run/Do not Run flag is set only for these specific load cases:"
   ]
  },
  {
   "cell_type": "code",
   "execution_count": null,
   "metadata": {
    "tags": []
   },
   "outputs": [],
   "source": [
    "load_cases_to_run = ['Dead', 'Superdead', 'Live', 'Live Roof', 'DX', 'DY']\n",
    "model.analysis.set_load_cases_to_run(run=True, load_cases=load_cases_to_run)  # Set specified load cases to Run\n"
   ]
  },
  {
   "cell_type": "markdown",
   "metadata": {},
   "source": [
    "### Run analysis\n",
    "\n",
    "Use the `.analysis.run_analysis()` method to start the analysis of the model."
   ]
  },
  {
   "cell_type": "code",
   "execution_count": null,
   "metadata": {},
   "outputs": [],
   "source": [
    "model.analysis.run_analysis()\n"
   ]
  },
  {
   "cell_type": "markdown",
   "metadata": {},
   "source": [
    "### Delete analysis results\n",
    "\n",
    "Once the model is run, use the `.analysis.delete_results([load_cases])` method to delete results of specified load cases.\n",
    "\n",
    "If the `load_cases` argument is not provided, then the results for all load cases will be deleted."
   ]
  },
  {
   "cell_type": "code",
   "execution_count": null,
   "metadata": {},
   "outputs": [],
   "source": [
    "model.analysis.delete_results(load_cases=['DY'])\n"
   ]
  },
  {
   "cell_type": "markdown",
   "metadata": {},
   "source": [
    "### Close the model\n",
    "\n",
    "Finally, to close a model use the .`close_application([save_model])` method."
   ]
  },
  {
   "cell_type": "code",
   "execution_count": null,
   "metadata": {},
   "outputs": [],
   "source": [
    "# Set save_model to True to save before closing, default is True\n",
    "print('Closing model')\n",
    "model.close_application(save_model=False)"
   ]
  },
  {
   "cell_type": "markdown",
   "metadata": {},
   "source": [
    "## Next -> [Table Operations](3_Table_Operations.ipynb)\n",
    "\n",
    "**REMEMBER to shut down the Kernel before leaving**\n",
    "\n",
    "Click `Kernel -> Shut Down Kernel`"
   ]
  },
  {
   "cell_type": "markdown",
   "metadata": {},
   "source": [
    "### Contact\n",
    "\n",
    "For questions or comments please reach out to:\n",
    "\n",
    "* Luis Pancardo: [lpancardo@degenkolb.com](lpancardo@degenkolb.com)<br/>\n",
    "* Daniel Gaspar:  [dgaspar@degenkolb.com](dgaspar@degenkolb.com)<br/>\n"
   ]
  }
 ],
 "metadata": {
  "kernelspec": {
   "display_name": "Python 3 (ipykernel)",
   "language": "python",
   "name": "python3"
  },
  "language_info": {
   "codemirror_mode": {
    "name": "ipython",
    "version": 3
   },
   "file_extension": ".py",
   "mimetype": "text/x-python",
   "name": "python",
   "nbconvert_exporter": "python",
   "pygments_lexer": "ipython3",
   "version": "3.10.14"
  }
 },
 "nbformat": 4,
 "nbformat_minor": 4
}
